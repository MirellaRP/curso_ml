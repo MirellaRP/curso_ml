{
  "nbformat": 4,
  "nbformat_minor": 0,
  "metadata": {
    "colab": {
      "name": "TareaRegresionLogistica_ClasificacionDigitos.ipynb",
      "provenance": [],
      "collapsed_sections": [
        "uYOSp0ephT0f"
      ]
    },
    "kernelspec": {
      "name": "python3",
      "display_name": "Python 3"
    },
    "language_info": {
      "name": "python"
    }
  },
  "cells": [
    {
      "cell_type": "markdown",
      "metadata": {
        "id": "1Cl2qlN2VaYa"
      },
      "source": [
        "# **Regresión Logística**"
      ]
    },
    {
      "cell_type": "markdown",
      "metadata": {
        "id": "WzuuUKQZWyg9"
      },
      "source": [
        "La regresión logística permite predecir a qué clase pertenece cada uno de los datos de entrada. "
      ]
    },
    {
      "cell_type": "markdown",
      "metadata": {
        "id": "C7lcy8F1W-dX"
      },
      "source": [
        "Paso 1: Cargar librerías "
      ]
    },
    {
      "cell_type": "code",
      "metadata": {
        "id": "38Muq-gkUKZJ"
      },
      "source": [
        "from sklearn.datasets import fetch_openml\n",
        "import numpy as np\n",
        "import matplotlib.pyplot as plt"
      ],
      "execution_count": null,
      "outputs": []
    },
    {
      "cell_type": "markdown",
      "metadata": {
        "id": "8tPkMZAvYIz2"
      },
      "source": [
        "load_digits tiene un database de imágenes de dígitos con su clase \n",
        "\n",
        "$x\\rightarrow $ imagen de numero\n",
        "\n",
        "$y\\rightarrow $ numero"
      ]
    },
    {
      "cell_type": "code",
      "metadata": {
        "id": "e9xbs9v8YKWA"
      },
      "source": [
        "mnist = fetch_openml(\"mnist_784\")"
      ],
      "execution_count": null,
      "outputs": []
    },
    {
      "cell_type": "code",
      "metadata": {
        "colab": {
          "base_uri": "https://localhost:8080/"
        },
        "id": "0hwAPcu6lkpB",
        "outputId": "06646c6b-fe15-4147-e3a5-0c70e1325f2f"
      },
      "source": [
        "mnist.keys()"
      ],
      "execution_count": null,
      "outputs": [
        {
          "output_type": "execute_result",
          "data": {
            "text/plain": [
              "dict_keys(['data', 'target', 'frame', 'feature_names', 'target_names', 'DESCR', 'details', 'categories', 'url'])"
            ]
          },
          "metadata": {},
          "execution_count": 4
        }
      ]
    },
    {
      "cell_type": "markdown",
      "metadata": {
        "id": "m3WqysalY_1c"
      },
      "source": [
        "**Data Set Characteristics:**\n",
        "Number of Instances: 5620\n",
        "\n",
        "Number of Attributes: 784\n",
        "\n",
        "Attribute Information: 28x28 image of integer pixels from 0 - 255\n",
        "\n",
        "'DESCR': Descripcion de dataset\n",
        "\n",
        "'data': Array de bits de imagenes por fila $\\rightarrow x$\n",
        "\n",
        "'target': Array de nombres de targets por instancia $\\rightarrow y$\n",
        "\n",
        "'target_names': Clases"
      ]
    },
    {
      "cell_type": "code",
      "metadata": {
        "colab": {
          "base_uri": "https://localhost:8080/"
        },
        "id": "H-DC4VTuYeJT",
        "outputId": "0c72078b-985a-493e-ae72-a2db342a782b"
      },
      "source": [
        "mnist['data'].shape # (filas,columnas) o (instancias,atributos)"
      ],
      "execution_count": null,
      "outputs": [
        {
          "output_type": "execute_result",
          "data": {
            "text/plain": [
              "(70000, 784)"
            ]
          },
          "metadata": {},
          "execution_count": 7
        }
      ]
    },
    {
      "cell_type": "code",
      "metadata": {
        "colab": {
          "base_uri": "https://localhost:8080/"
        },
        "id": "oAmQmovmb2-2",
        "outputId": "13bcb062-056c-41fe-bb79-50054bd71adc"
      },
      "source": [
        "mnist['target'].shape #(filas,columnas)"
      ],
      "execution_count": null,
      "outputs": [
        {
          "output_type": "execute_result",
          "data": {
            "text/plain": [
              "(70000,)"
            ]
          },
          "metadata": {},
          "execution_count": 8
        }
      ]
    },
    {
      "cell_type": "code",
      "metadata": {
        "id": "Mupt2NGecj5U"
      },
      "source": [
        "#mnist['data'][0,:]"
      ],
      "execution_count": null,
      "outputs": []
    },
    {
      "cell_type": "markdown",
      "metadata": {
        "id": "uYOSp0ephT0f"
      },
      "source": [
        "## Plotear datos de entrada"
      ]
    },
    {
      "cell_type": "markdown",
      "metadata": {
        "id": "tsxuTC5YjwnY"
      },
      "source": [
        "### Para varios datos"
      ]
    },
    {
      "cell_type": "markdown",
      "metadata": {
        "id": "-o6YLgNDlsL_"
      },
      "source": [
        "Recordando\n",
        "\n",
        "**Enumerate** : Sirve para anadir enumeración a la lista\n",
        "\n",
        "**Zip**       : Sirve para concatenar listas en una tupla"
      ]
    },
    {
      "cell_type": "markdown",
      "metadata": {
        "id": "8oqBAvBSnmGC"
      },
      "source": [
        "Quiero mostrar 5 imagenes seguidas desde un inicio random"
      ]
    },
    {
      "cell_type": "code",
      "metadata": {
        "id": "CNhktExHnhLE"
      },
      "source": [
        "nInstancias = mnist['data'].shape[0]\n",
        "idx = np.random.randint(nInstancias-5)"
      ],
      "execution_count": null,
      "outputs": []
    },
    {
      "cell_type": "code",
      "metadata": {
        "colab": {
          "base_uri": "https://localhost:8080/",
          "height": 265
        },
        "id": "q_VuqUlaiteE",
        "outputId": "1f271080-fa15-4f62-8658-a2e809f40199"
      },
      "source": [
        "plt.figure(figsize=(20,4))\n",
        "\n",
        "#  Aqui mostramos 5 imagenes desde indx hasta idx+5 y para ello concatenamos en tupla la imagen (en forma de fila)(x) y la clase que pertenece(y)\n",
        "#  Con enumerate enumero la lista y me ayuda para plotear con subplot\n",
        "\n",
        "for index, (image, label) in enumerate(zip(mnist['data'][idx:idx+5,:], mnist['target'][idx:idx+5])):\n",
        "  plt.subplot(1,5, index + 1)\n",
        "  plt.imshow(image.reshape(28,28), cmap='gray')\n",
        "  plt.title(f\"target: {label}\", size=24)\n",
        "  #plt.show()"
      ],
      "execution_count": null,
      "outputs": [
        {
          "output_type": "display_data",
          "data": {
            "image/png": "[encoded data removed]",
            "text/plain": [
              "<Figure size 1440x288 with 5 Axes>"
            ]
          },
          "metadata": {
            "needs_background": "light"
          }
        }
      ]
    },
    {
      "cell_type": "markdown",
      "metadata": {
        "id": "j8REAdoV6ygM"
      },
      "source": [
        "## *Regresion Logistica*"
      ]
    },
    {
      "cell_type": "markdown",
      "metadata": {
        "id": "g2-00PCL7i45"
      },
      "source": [
        "### **Training/Test Split**"
      ]
    },
    {
      "cell_type": "code",
      "metadata": {
        "id": "-hYD4Yud7VvI"
      },
      "source": [
        "from sklearn.model_selection import train_test_split\n",
        "X = mnist['data']\n",
        "y = mnist['target']\n",
        "X_train, X_test, y_train, y_test = train_test_split(X, y, test_size=0.2, random_state=0)"
      ],
      "execution_count": null,
      "outputs": []
    },
    {
      "cell_type": "code",
      "metadata": {
        "colab": {
          "base_uri": "https://localhost:8080/"
        },
        "id": "LHIQGNfYXSJv",
        "outputId": "087e3660-4b3c-4e58-be20-0530936aae8a"
      },
      "source": [
        "X_train.shape, X_test.shape, y_train.shape, y_test.shape"
      ],
      "execution_count": null,
      "outputs": [
        {
          "output_type": "execute_result",
          "data": {
            "text/plain": [
              "((56000, 784), (14000, 784), (56000,), (14000,))"
            ]
          },
          "metadata": {},
          "execution_count": 23
        }
      ]
    },
    {
      "cell_type": "markdown",
      "metadata": {
        "id": "VWz0lxljXuQI"
      },
      "source": [
        "### **Clasificacion Multinomial Entrenamiento**"
      ]
    },
    {
      "cell_type": "markdown",
      "metadata": {
        "id": "tmxygbqcX6UX"
      },
      "source": [
        "_ -> [0,1,2,3,4,5,6,7,8,9]\n",
        "\n",
        "0 -> [1,0,0,0,0,0,0,0,0,0]\n",
        "\n",
        "1 -> [0,1,0,0,0,0,0,0,0,0]\n",
        "\n",
        "2 -> [0,0,1,0,0,0,0,0,0,0]\n",
        "\n",
        "9 -> [0,0,0,0,0,0,0,0,0,1]\n",
        "\n",
        "Esto para que las predicciones que se hagan hw(x)=[0.1,0.1,0.7,0,0,0,0,0,0.1] con las probabilidades identifique mejor a que clase pertenece.\n"
      ]
    },
    {
      "cell_type": "code",
      "metadata": {
        "id": "Ht_w52Q9XivO"
      },
      "source": [
        "from sklearn.linear_model import LogisticRegression"
      ],
      "execution_count": null,
      "outputs": []
    },
    {
      "cell_type": "code",
      "metadata": {
        "id": "Gi8KnZ9G-C0N"
      },
      "source": [
        "model1 = LogisticRegression(tol=0.001, solver='lbfgs', max_iter=1000)\n",
        "model2 = LogisticRegression(tol=0.001, solver='saga', max_iter=1000)"
      ],
      "execution_count": null,
      "outputs": []
    },
    {
      "cell_type": "code",
      "metadata": {
        "id": "SQMZnG5idtZe"
      },
      "source": [
        "model3 = LogisticRegression(tol=0.01, solver='lbfgs', max_iter=10000)\n",
        "model4 = LogisticRegression(tol=0.01, solver='saga', max_iter=10000)"
      ],
      "execution_count": null,
      "outputs": []
    },
    {
      "cell_type": "code",
      "metadata": {
        "id": "1IRqxisZ-MML"
      },
      "source": [
        "model5 = LogisticRegression()\n",
        "model6 = LogisticRegression(solver='saga')\n",
        "model7 = LogisticRegression(solver='sag')"
      ],
      "execution_count": null,
      "outputs": []
    },
    {
      "cell_type": "code",
      "metadata": {
        "id": "fDu7Non2X4yv"
      },
      "source": [
        "model8 = LogisticRegression(tol=0.001, solver='saga', max_iter=10000)\n"
      ],
      "execution_count": null,
      "outputs": []
    },
    {
      "cell_type": "markdown",
      "metadata": {
        "id": "8mwnfXKzYd1J"
      },
      "source": [
        "Aqui se entrena"
      ]
    },
    {
      "cell_type": "code",
      "metadata": {
        "colab": {
          "base_uri": "https://localhost:8080/"
        },
        "id": "nwDuoFzlYZNf",
        "outputId": "2bb2f874-8870-4f47-bd53-91cccc0e4d78"
      },
      "source": [
        "model1.fit(X_train, y_train)"
      ],
      "execution_count": null,
      "outputs": [
        {
          "output_type": "stream",
          "name": "stderr",
          "text": [
            "/usr/local/lib/python3.7/dist-packages/sklearn/linear_model/_logistic.py:940: ConvergenceWarning: lbfgs failed to converge (status=1):\n",
            "STOP: TOTAL NO. of ITERATIONS REACHED LIMIT.\n",
            "\n",
            "Increase the number of iterations (max_iter) or scale the data as shown in:\n",
            "    https://scikit-learn.org/stable/modules/preprocessing.html\n",
            "Please also refer to the documentation for alternative solver options:\n",
            "    https://scikit-learn.org/stable/modules/linear_model.html#logistic-regression\n",
            "  extra_warning_msg=_LOGISTIC_SOLVER_CONVERGENCE_MSG)\n"
          ]
        },
        {
          "output_type": "execute_result",
          "data": {
            "text/plain": [
              "LogisticRegression(C=1.0, class_weight=None, dual=False, fit_intercept=True,\n",
              "                   intercept_scaling=1, l1_ratio=None, max_iter=1000,\n",
              "                   multi_class='auto', n_jobs=None, penalty='l2',\n",
              "                   random_state=None, solver='lbfgs', tol=0.001, verbose=0,\n",
              "                   warm_start=False)"
            ]
          },
          "metadata": {},
          "execution_count": 63
        }
      ]
    },
    {
      "cell_type": "code",
      "metadata": {
        "colab": {
          "base_uri": "https://localhost:8080/"
        },
        "id": "ykbOyvIN5YD-",
        "outputId": "aef58e93-8714-4955-ed35-cf4a081986f9"
      },
      "source": [
        "model2.fit(X_train, y_train)"
      ],
      "execution_count": null,
      "outputs": [
        {
          "output_type": "execute_result",
          "data": {
            "text/plain": [
              "LogisticRegression(C=1.0, class_weight=None, dual=False, fit_intercept=True,\n",
              "                   intercept_scaling=1, l1_ratio=None, max_iter=1000,\n",
              "                   multi_class='auto', n_jobs=None, penalty='l2',\n",
              "                   random_state=None, solver='saga', tol=0.001, verbose=0,\n",
              "                   warm_start=False)"
            ]
          },
          "metadata": {},
          "execution_count": 61
        }
      ]
    },
    {
      "cell_type": "code",
      "metadata": {
        "colab": {
          "base_uri": "https://localhost:8080/"
        },
        "id": "bKQYffYmd5M9",
        "outputId": "1a637f23-b40d-4518-a57f-b3bb76723c67"
      },
      "source": [
        "model3.fit(X_train, y_train)"
      ],
      "execution_count": null,
      "outputs": [
        {
          "output_type": "stream",
          "name": "stderr",
          "text": [
            "/usr/local/lib/python3.7/dist-packages/sklearn/linear_model/_logistic.py:940: ConvergenceWarning: lbfgs failed to converge (status=1):\n",
            "STOP: TOTAL NO. of ITERATIONS REACHED LIMIT.\n",
            "\n",
            "Increase the number of iterations (max_iter) or scale the data as shown in:\n",
            "    https://scikit-learn.org/stable/modules/preprocessing.html\n",
            "Please also refer to the documentation for alternative solver options:\n",
            "    https://scikit-learn.org/stable/modules/linear_model.html#logistic-regression\n",
            "  extra_warning_msg=_LOGISTIC_SOLVER_CONVERGENCE_MSG)\n"
          ]
        },
        {
          "output_type": "execute_result",
          "data": {
            "text/plain": [
              "LogisticRegression(C=1.0, class_weight=None, dual=False, fit_intercept=True,\n",
              "                   intercept_scaling=1, l1_ratio=None, max_iter=10000,\n",
              "                   multi_class='auto', n_jobs=None, penalty='l2',\n",
              "                   random_state=None, solver='lbfgs', tol=0.01, verbose=0,\n",
              "                   warm_start=False)"
            ]
          },
          "metadata": {},
          "execution_count": 69
        }
      ]
    },
    {
      "cell_type": "code",
      "metadata": {
        "colab": {
          "base_uri": "https://localhost:8080/"
        },
        "id": "AjGbDclsd_Gd",
        "outputId": "2172a7b5-7f5e-42c2-a45b-0bcb10d15c0a"
      },
      "source": [
        "model4.fit(X_train, y_train)"
      ],
      "execution_count": null,
      "outputs": [
        {
          "output_type": "execute_result",
          "data": {
            "text/plain": [
              "LogisticRegression(C=1.0, class_weight=None, dual=False, fit_intercept=True,\n",
              "                   intercept_scaling=1, l1_ratio=None, max_iter=10000,\n",
              "                   multi_class='auto', n_jobs=None, penalty='l2',\n",
              "                   random_state=None, solver='saga', tol=0.01, verbose=0,\n",
              "                   warm_start=False)"
            ]
          },
          "metadata": {},
          "execution_count": 68
        }
      ]
    },
    {
      "cell_type": "code",
      "metadata": {
        "colab": {
          "base_uri": "https://localhost:8080/"
        },
        "id": "wh5Wuua1eBPq",
        "outputId": "74117cb5-9a75-4306-abb4-429013db5d0e"
      },
      "source": [
        "model5.fit(X_train, y_train)"
      ],
      "execution_count": null,
      "outputs": [
        {
          "output_type": "stream",
          "name": "stderr",
          "text": [
            "/usr/local/lib/python3.7/dist-packages/sklearn/linear_model/_logistic.py:940: ConvergenceWarning: lbfgs failed to converge (status=1):\n",
            "STOP: TOTAL NO. of ITERATIONS REACHED LIMIT.\n",
            "\n",
            "Increase the number of iterations (max_iter) or scale the data as shown in:\n",
            "    https://scikit-learn.org/stable/modules/preprocessing.html\n",
            "Please also refer to the documentation for alternative solver options:\n",
            "    https://scikit-learn.org/stable/modules/linear_model.html#logistic-regression\n",
            "  extra_warning_msg=_LOGISTIC_SOLVER_CONVERGENCE_MSG)\n"
          ]
        },
        {
          "output_type": "execute_result",
          "data": {
            "text/plain": [
              "LogisticRegression(C=1.0, class_weight=None, dual=False, fit_intercept=True,\n",
              "                   intercept_scaling=1, l1_ratio=None, max_iter=100,\n",
              "                   multi_class='auto', n_jobs=None, penalty='l2',\n",
              "                   random_state=None, solver='lbfgs', tol=0.0001, verbose=0,\n",
              "                   warm_start=False)"
            ]
          },
          "metadata": {},
          "execution_count": 72
        }
      ]
    },
    {
      "cell_type": "code",
      "metadata": {
        "colab": {
          "base_uri": "https://localhost:8080/"
        },
        "id": "XTDbPdwf-6Vq",
        "outputId": "17f56826-448a-4c61-fe22-e4bb50d293c6"
      },
      "source": [
        "model6.fit(X_train, y_train)"
      ],
      "execution_count": null,
      "outputs": [
        {
          "output_type": "stream",
          "name": "stderr",
          "text": [
            "/usr/local/lib/python3.7/dist-packages/sklearn/linear_model/_sag.py:330: ConvergenceWarning: The max_iter was reached which means the coef_ did not converge\n",
            "  \"the coef_ did not converge\", ConvergenceWarning)\n"
          ]
        },
        {
          "output_type": "execute_result",
          "data": {
            "text/plain": [
              "LogisticRegression(C=1.0, class_weight=None, dual=False, fit_intercept=True,\n",
              "                   intercept_scaling=1, l1_ratio=None, max_iter=100,\n",
              "                   multi_class='auto', n_jobs=None, penalty='l2',\n",
              "                   random_state=None, solver='saga', tol=0.0001, verbose=0,\n",
              "                   warm_start=False)"
            ]
          },
          "metadata": {},
          "execution_count": 74
        }
      ]
    },
    {
      "cell_type": "code",
      "metadata": {
        "colab": {
          "base_uri": "https://localhost:8080/"
        },
        "id": "__AWrPFt_mAY",
        "outputId": "7175f3d1-8c57-43e6-cdb4-f0367ba507d2"
      },
      "source": [
        "model7.fit(X_train, y_train)"
      ],
      "execution_count": null,
      "outputs": [
        {
          "output_type": "stream",
          "name": "stderr",
          "text": [
            "/usr/local/lib/python3.7/dist-packages/sklearn/linear_model/_sag.py:330: ConvergenceWarning: The max_iter was reached which means the coef_ did not converge\n",
            "  \"the coef_ did not converge\", ConvergenceWarning)\n"
          ]
        },
        {
          "output_type": "execute_result",
          "data": {
            "text/plain": [
              "LogisticRegression(C=1.0, class_weight=None, dual=False, fit_intercept=True,\n",
              "                   intercept_scaling=1, l1_ratio=None, max_iter=100,\n",
              "                   multi_class='auto', n_jobs=None, penalty='l2',\n",
              "                   random_state=None, solver='sag', tol=0.0001, verbose=0,\n",
              "                   warm_start=False)"
            ]
          },
          "metadata": {},
          "execution_count": 77
        }
      ]
    },
    {
      "cell_type": "markdown",
      "metadata": {
        "id": "exGWLfO5YqRh"
      },
      "source": [
        "Como se puede ver en el esquema el algoritmo tiene 10 clases y para cada clase se calcula la funcion lineal o pesos para la prediccion de esta con los atributos de x (o se calcula la frontera de decision para cada clase). Para ello se calcula **los mejores w** y **para cada clase hay 784 ws** sin contar el bias. \n",
        "\n",
        "Con model.coef_ se ven estos coeficientes que estan distribuidos en 10 filas con 784 valores cada una (784 columnas)\n",
        "\n",
        "Cone model.intercept_ se ve el bias o **w0** por cada clase\n",
        "\n"
      ]
    },
    {
      "cell_type": "code",
      "metadata": {
        "colab": {
          "base_uri": "https://localhost:8080/"
        },
        "id": "9_O7JaROYgYf",
        "outputId": "699e8725-d06f-4343-f67e-67a17a4978ef"
      },
      "source": [
        "model1.coef_.shape"
      ],
      "execution_count": null,
      "outputs": [
        {
          "output_type": "execute_result",
          "data": {
            "text/plain": [
              "(10, 784)"
            ]
          },
          "metadata": {},
          "execution_count": 38
        }
      ]
    },
    {
      "cell_type": "code",
      "metadata": {
        "colab": {
          "base_uri": "https://localhost:8080/"
        },
        "id": "4_r5db9kYpG1",
        "outputId": "8210606d-a299-40ce-f5fa-034095402f68"
      },
      "source": [
        "model1.intercept_.shape"
      ],
      "execution_count": null,
      "outputs": [
        {
          "output_type": "execute_result",
          "data": {
            "text/plain": [
              "(10,)"
            ]
          },
          "metadata": {},
          "execution_count": 39
        }
      ]
    },
    {
      "cell_type": "markdown",
      "metadata": {
        "id": "JmpyybR_aHM-"
      },
      "source": [
        "### **Clasificacion Multinomial Test**"
      ]
    },
    {
      "cell_type": "markdown",
      "metadata": {
        "id": "fYlf47HTiIp4"
      },
      "source": [
        "**Accuracy Score**"
      ]
    },
    {
      "cell_type": "markdown",
      "metadata": {
        "id": "HDvhvRp18gK8"
      },
      "source": [
        "**Modelo 1**\n"
      ]
    },
    {
      "cell_type": "code",
      "metadata": {
        "colab": {
          "base_uri": "https://localhost:8080/"
        },
        "id": "mnbVnTzoaSGo",
        "outputId": "b7c14ad2-bff2-4ce0-95f8-c6857ca0b328"
      },
      "source": [
        "score1 = model1.score(X_test, y_test)\n",
        "score1"
      ],
      "execution_count": null,
      "outputs": [
        {
          "output_type": "execute_result",
          "data": {
            "text/plain": [
              "0.9110714285714285"
            ]
          },
          "metadata": {},
          "execution_count": 64
        }
      ]
    },
    {
      "cell_type": "markdown",
      "metadata": {
        "id": "lDZmc2ca8laM"
      },
      "source": [
        "**Modelo 2**\n"
      ]
    },
    {
      "cell_type": "code",
      "metadata": {
        "colab": {
          "base_uri": "https://localhost:8080/"
        },
        "id": "7FbWgh1a8n2u",
        "outputId": "2ac7aea7-e192-43db-ee23-c08bb30b84dc"
      },
      "source": [
        "score2 = model2.score(X_test, y_test)\n",
        "score2"
      ],
      "execution_count": null,
      "outputs": [
        {
          "output_type": "execute_result",
          "data": {
            "text/plain": [
              "0.9137857142857143"
            ]
          },
          "metadata": {},
          "execution_count": 62
        }
      ]
    },
    {
      "cell_type": "markdown",
      "metadata": {
        "id": "hSrNhxG58r92"
      },
      "source": [
        "**Modelo 3**"
      ]
    },
    {
      "cell_type": "code",
      "metadata": {
        "colab": {
          "base_uri": "https://localhost:8080/"
        },
        "id": "aA9LQ3Ne8rTY",
        "outputId": "5e373f9d-9b58-45df-ffae-aba2fc9ef53d"
      },
      "source": [
        "score3 = model3.score(X_test, y_test)\n",
        "score3"
      ],
      "execution_count": null,
      "outputs": [
        {
          "output_type": "execute_result",
          "data": {
            "text/plain": [
              "0.9092857142857143"
            ]
          },
          "metadata": {},
          "execution_count": 75
        }
      ]
    },
    {
      "cell_type": "markdown",
      "metadata": {
        "id": "vZ-ypwVYf60d"
      },
      "source": [
        "**Modelo 4**"
      ]
    },
    {
      "cell_type": "code",
      "metadata": {
        "colab": {
          "base_uri": "https://localhost:8080/"
        },
        "id": "aHihLRmjf9ku",
        "outputId": "e6de5da7-277e-45aa-dd70-45c1e7c9d4d0"
      },
      "source": [
        "score4 = model4.score(X_test, y_test)\n",
        "score4"
      ],
      "execution_count": null,
      "outputs": [
        {
          "output_type": "execute_result",
          "data": {
            "text/plain": [
              "0.9172142857142858"
            ]
          },
          "metadata": {},
          "execution_count": 76
        }
      ]
    },
    {
      "cell_type": "markdown",
      "metadata": {
        "id": "ORqprxUcf-No"
      },
      "source": [
        "**Modelo 5**"
      ]
    },
    {
      "cell_type": "code",
      "metadata": {
        "colab": {
          "base_uri": "https://localhost:8080/"
        },
        "id": "Osq-p9figC2e",
        "outputId": "bd09b96e-5b74-42ae-829a-bc27795420fc"
      },
      "source": [
        "score5 = model5.score(X_test, y_test)\n",
        "score5"
      ],
      "execution_count": null,
      "outputs": [
        {
          "output_type": "execute_result",
          "data": {
            "text/plain": [
              "0.9172142857142858"
            ]
          },
          "metadata": {},
          "execution_count": 73
        }
      ]
    },
    {
      "cell_type": "markdown",
      "metadata": {
        "id": "uDhyelOJ_rMj"
      },
      "source": [
        "**Modelo 6**"
      ]
    },
    {
      "cell_type": "code",
      "metadata": {
        "colab": {
          "base_uri": "https://localhost:8080/"
        },
        "id": "BaQJn3Xs_t8J",
        "outputId": "0698ab5b-ddcb-41cd-cf45-130cf8bef79f"
      },
      "source": [
        "score6 = model6.score(X_test, y_test)\n",
        "score6"
      ],
      "execution_count": null,
      "outputs": [
        {
          "output_type": "execute_result",
          "data": {
            "text/plain": [
              "0.9157142857142857"
            ]
          },
          "metadata": {},
          "execution_count": 78
        }
      ]
    },
    {
      "cell_type": "markdown",
      "metadata": {
        "id": "Vnkmz_ZdBD0r"
      },
      "source": [
        "**Modelo 7**"
      ]
    },
    {
      "cell_type": "code",
      "metadata": {
        "colab": {
          "base_uri": "https://localhost:8080/"
        },
        "id": "3yzsvbAhBGG-",
        "outputId": "17631401-739a-4e22-9118-d53d8e8dfa7b"
      },
      "source": [
        "score7 = model7.score(X_test, y_test)\n",
        "score7"
      ],
      "execution_count": null,
      "outputs": [
        {
          "output_type": "execute_result",
          "data": {
            "text/plain": [
              "0.9155"
            ]
          },
          "metadata": {},
          "execution_count": 79
        }
      ]
    },
    {
      "cell_type": "markdown",
      "metadata": {
        "id": "CtMDOP51-BCM"
      },
      "source": [
        "Los mejores modelos son el modelo 4 y el 5.\n",
        "\n",
        "Modelo 4 $\\rightarrow$ solver='saga', tol=0.01, max_iter=10000\n",
        "\n",
        "Modelo 5 $\\rightarrow$ solver='lbfgs', tol=0.0001, max_iter=100"
      ]
    },
    {
      "cell_type": "markdown",
      "metadata": {
        "id": "3qMwBmw2iTGM"
      },
      "source": [
        "**Prediccion**"
      ]
    },
    {
      "cell_type": "code",
      "metadata": {
        "id": "7foVkVtgiQgh"
      },
      "source": [
        "from sklearn.metrics import confusion_matrix\n",
        "import seaborn as sns"
      ],
      "execution_count": 83,
      "outputs": []
    },
    {
      "cell_type": "code",
      "metadata": {
        "id": "l1MVfJ-3iVFc"
      },
      "source": [
        "y_pred = model4.predict(X_test)\n",
        "cm = confusion_matrix(y_test, y_pred)"
      ],
      "execution_count": 88,
      "outputs": []
    },
    {
      "cell_type": "code",
      "metadata": {
        "colab": {
          "base_uri": "https://localhost:8080/",
          "height": 472
        },
        "id": "LIWc0uNhiWtv",
        "outputId": "b125e866-3264-45f5-fd45-2f977393dd03"
      },
      "source": [
        "plt.figure(figsize=(8,8))\n",
        "sns.heatmap(cm, annot=True, linewidths=.5, square = True, cmap = 'Blues_r');\n",
        "plt.ylabel('Actual label', size = 15)\n",
        "plt.xlabel('Predicted label', size = 15)\n",
        "plt.title(f\"Accuracy Score with 'saga' solver: {np.round(100*score4,1)}%\", size = 15)\n",
        "plt.show()"
      ],
      "execution_count": 89,
      "outputs": [
        {
          "output_type": "display_data",
          "data": {
            "image/png": "[encoded data removed]",
            "text/plain": [
              "<Figure size 576x576 with 2 Axes>"
            ]
          },
          "metadata": {
            "needs_background": "light"
          }
        }
      ]
    },
    {
      "cell_type": "code",
      "metadata": {
        "id": "cy83OnCDHDl4"
      },
      "source": [
        "y_pred = model5.predict(X_test)\n",
        "cm = confusion_matrix(y_test, y_pred)"
      ],
      "execution_count": 90,
      "outputs": []
    },
    {
      "cell_type": "code",
      "metadata": {
        "id": "3X8MQjJKy9jx",
        "colab": {
          "base_uri": "https://localhost:8080/",
          "height": 472
        },
        "outputId": "ec71d391-3c54-452b-efb6-90a17f7fa01c"
      },
      "source": [
        "plt.figure(figsize=(8,8))\n",
        "sns.heatmap(cm, annot=True, linewidths=.5, square = True, cmap = 'Blues_r');\n",
        "plt.ylabel('Actual label', size = 15)\n",
        "plt.xlabel('Predicted label', size = 15)\n",
        "plt.title(f\"Accuracy Score with 'lbfgs' solver: {np.round(100*score5,1)}%\", size = 15)\n",
        "plt.show()"
      ],
      "execution_count": 91,
      "outputs": [
        {
          "output_type": "display_data",
          "data": {
            "image/png": "[encoded data removed]",
            "text/plain": [
              "<Figure size 576x576 with 2 Axes>"
            ]
          },
          "metadata": {
            "needs_background": "light"
          }
        }
      ]
    }
  ]
}